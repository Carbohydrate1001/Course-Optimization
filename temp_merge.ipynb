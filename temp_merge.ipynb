{
 "cells": [
  {
   "cell_type": "code",
   "id": "initial_id",
   "metadata": {
    "collapsed": true,
    "ExecuteTime": {
     "end_time": "2024-11-14T09:13:41.908101Z",
     "start_time": "2024-11-14T09:13:41.215559Z"
    }
   },
   "source": [
    "import pandas as pd\n",
    "df1 = pd.read_excel(\"Template-2420.xlsx\", sheet_name=\"UG\")\n",
    "df2 = pd.read_excel(\"（重要)手工清洗数据.xlsx\", sheet_name=\"Sheet1\")\n",
    "\n",
    "merge_key = 'Module Code'\n",
    "\n",
    "# 从df1中选择需要的列\n",
    "columns_to_add = ['Module Code', 'Module Size']\n",
    "df1_filtered = df1[columns_to_add]\n",
    "\n",
    "# 合并两个DataFrame，基于'Module Code'列\n",
    "merged_df = pd.merge(df2, df1_filtered, on=merge_key, how='outer')\n",
    "merged_df.to_excel(\"temp.xlsx\",index=False)\n",
    "\n",
    "# 确保合并后GE课程还存在\n",
    "rows_with_null_type = merged_df['Module Size'].isna()\n",
    "merged_df.loc[rows_with_null_type, 'Module Size'] = 100\n",
    "\n",
    "rows_with_na = merged_df[merged_df.isna().any(axis=1)]\n",
    "df_combined = merged_df.dropna()\n",
    "df_combined = df_combined.drop_duplicates()  # 去除重复行\n",
    "idx = df_combined.groupby('Module Code')['Duration'].idxmax()\n",
    "df_unique = df_combined.loc[idx].reset_index(drop=True)\n",
    "\n",
    "# 将合并后的数据保存到新的Excel文件\n",
    "\n",
    "df_unique.to_excel('Merged_Input.xlsx', index=False)\n",
    "print(\"合并完成，结果已保存至 'Merged_Input.xlsx'\")"
   ],
   "outputs": [
    {
     "name": "stdout",
     "output_type": "stream",
     "text": [
      "合并完成，结果已保存至 'Merged_Input.xlsx'\n"
     ]
    }
   ],
   "execution_count": 2
  },
  {
   "metadata": {
    "ExecuteTime": {
     "end_time": "2024-11-14T09:13:41.913384Z",
     "start_time": "2024-11-14T09:13:41.910109Z"
    }
   },
   "cell_type": "code",
   "source": "",
   "id": "f913fbc7dadddfe4",
   "outputs": [],
   "execution_count": 2
  }
 ],
 "metadata": {
  "kernelspec": {
   "display_name": "Python 3",
   "language": "python",
   "name": "python3"
  },
  "language_info": {
   "codemirror_mode": {
    "name": "ipython",
    "version": 2
   },
   "file_extension": ".py",
   "mimetype": "text/x-python",
   "name": "python",
   "nbconvert_exporter": "python",
   "pygments_lexer": "ipython2",
   "version": "2.7.6"
  }
 },
 "nbformat": 4,
 "nbformat_minor": 5
}
