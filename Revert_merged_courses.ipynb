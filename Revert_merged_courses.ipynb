{
 "cells": [
  {
   "cell_type": "code",
   "id": "initial_id",
   "metadata": {
    "collapsed": true,
    "ExecuteTime": {
     "end_time": "2024-10-26T18:17:19.755957Z",
     "start_time": "2024-10-26T18:17:19.192511Z"
    }
   },
   "source": [
    "import pandas as pd\n",
    "\n",
    "df_to_revert = pd.read_excel('Y_matrix(Courses-TIME).xlsx', sheet_name='Sheet1')\n",
    "reserved_data = pd.read_excel('Reserved data.xlsx', sheet_name='Sheet1')\n",
    "\n",
    "prefixes = ['GEB', 'GEC', 'GED']  # 可以根据实际需求添加更多前缀\n",
    "mapping_dict = {}\n",
    "start_index = 0\n",
    "\n",
    "\n",
    "for prefix in prefixes:\n",
    "    # 找到当前前缀的所有课程\n",
    "    prefix_courses = reserved_data[reserved_data['Module Code'].str.startswith(prefix)]\n",
    "    num_courses = len(prefix_courses)\n",
    "    \n",
    "    for i in range(1, num_courses + 1):\n",
    "        key = f'{prefix}_{str(i).zfill(2)}'\n",
    "        original_course = reserved_data['Module Code'].iloc[start_index + i - 1]\n",
    "        activity_count = reserved_data['Activity Counts'].iloc[start_index + i - 1]\n",
    "        \n",
    "        # 生成分裂后的课程名称\n",
    "        split_courses = [f\"{original_course}_{str(j).zfill(2)}\" for j in range(1, activity_count + 1)]\n",
    "        \n",
    "        # 将原课程名映射到分裂后的课程名列表\n",
    "        mapping_dict[key] = split_courses\n",
    "    \n",
    "    # 更新起始索引\n",
    "    start_index += num_courses\n",
    "    \n",
    "# print(mapping_dict)    \n",
    "    \n",
    "def map_and_split(course_code):\n",
    "    if course_code in mapping_dict:\n",
    "        return mapping_dict[course_code][0]  # 返回第一个分裂后的课程名\n",
    "    return course_code\n",
    "\n",
    "df_to_revert['Course'] = df_to_revert['Course'].apply(map_and_split)\n",
    "df_to_revert.to_excel('Y_matrix(Courses-TIME)_reverted.xlsx', index=False)"
   ],
   "outputs": [],
   "execution_count": 1
  },
  {
   "metadata": {},
   "cell_type": "code",
   "outputs": [],
   "execution_count": null,
   "source": "",
   "id": "559df65a2d264630"
  }
 ],
 "metadata": {
  "kernelspec": {
   "display_name": "Python 3",
   "language": "python",
   "name": "python3"
  },
  "language_info": {
   "codemirror_mode": {
    "name": "ipython",
    "version": 2
   },
   "file_extension": ".py",
   "mimetype": "text/x-python",
   "name": "python",
   "nbconvert_exporter": "python",
   "pygments_lexer": "ipython2",
   "version": "2.7.6"
  }
 },
 "nbformat": 4,
 "nbformat_minor": 5
}
