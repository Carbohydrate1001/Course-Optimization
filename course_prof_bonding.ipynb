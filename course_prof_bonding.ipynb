{
 "cells": [
  {
   "cell_type": "code",
   "execution_count": 2,
   "metadata": {},
   "outputs": [
    {
     "name": "stdout",
     "output_type": "stream",
     "text": [
      "Data successfully merged and saved to 课程表.xlsx\n"
     ]
    }
   ],
   "source": [
    "import pandas as pd\n",
    "\n",
    "# Load the provided files\n",
    "y_matrix_path = 'Y_matrix(Courses-TIME).xlsx'  \n",
    "prof_activity_path = 'prof_activity.xlsx'  \n",
    "\n",
    "# Load the relevant sheets from both files\n",
    "y_matrix = pd.read_excel(y_matrix_path)\n",
    "prof_activity = pd.read_excel(prof_activity_path, sheet_name='Sheet2')\n",
    "\n",
    "# Merge the datasets on the common columns 'Course' from y_matrix and 'Module Code' from prof_activity\n",
    "merged_df = pd.merge(y_matrix, prof_activity, left_on='Course', right_on='Module Code', how='inner')\n",
    "\n",
    "# Define the columns representing time slots\n",
    "time_columns = [0, 1, 2, 3, 4, 5, 6, 7]\n",
    "\n",
    "# Create the 'Time' column by finding the first non-zero value in columns '0' to '7'\n",
    "merged_df['Time'] = merged_df[time_columns].apply(lambda row: next((str(col) for col in time_columns if row[col] != 0), None), axis=1)\n",
    "\n",
    "# Map the 'Time' column to '时间段' values\n",
    "time_to_period = {\n",
    "    '0': 'Mon/Wed 8:30',\n",
    "    '1': 'Mon/Wed 10:30',\n",
    "    '2': 'Mon/Wed 1:30',\n",
    "    '3': 'Mon/Wed 3:30',\n",
    "    '4': 'Tue/Thu 8:30',\n",
    "    '5': 'Tue/Thu 10:30',\n",
    "    '6': 'Tue/Thu 1:30',\n",
    "    '7': 'Tue/Thu 3:30'\n",
    "}\n",
    "\n",
    "merged_df['时间段'] = merged_df['Time'].map(time_to_period)\n",
    "\n",
    "# Select only the required columns for the final output\n",
    "final_df = merged_df[['Course', 'Course Instructor&New/Part-Time', 'Time', '时间段']]\n",
    "\n",
    "# Save the result to a new Excel file\n",
    "output_path = '课程表.xlsx'  # Specify the path to save the output\n",
    "final_df.to_excel(output_path, index=False)\n",
    "\n",
    "print(f\"Data successfully merged and saved to {output_path}\")\n"
   ]
  }
 ],
 "metadata": {
  "kernelspec": {
   "display_name": "Python 3",
   "language": "python",
   "name": "python3"
  },
  "language_info": {
   "codemirror_mode": {
    "name": "ipython",
    "version": 3
   },
   "file_extension": ".py",
   "mimetype": "text/x-python",
   "name": "python",
   "nbconvert_exporter": "python",
   "pygments_lexer": "ipython3",
   "version": "3.9.7"
  }
 },
 "nbformat": 4,
 "nbformat_minor": 2
}
