{
 "cells": [
  {
   "cell_type": "code",
   "execution_count": null,
   "id": "initial_id",
   "metadata": {
    "collapsed": true
   },
   "outputs": [],
   "source": [
    ""
   ]
  },
  {
   "metadata": {
    "ExecuteTime": {
     "end_time": "2024-11-10T08:43:45.228922Z",
     "start_time": "2024-11-10T08:43:45.207980Z"
    }
   },
   "cell_type": "code",
   "source": [
    "from itertools import product\n",
    "\n",
    "# 定义课程列表\n",
    "courses = {\n",
    "    'english': [('ENL1002', 'ENL1004'), ('ENG1002',)],\n",
    "    'social_sciences': [\n",
    "        ('PSY1010',),\n",
    "        ('GLB1010',),\n",
    "        ('URM3010',),\n",
    "        ('URM3110',),\n",
    "        ('URM3120',),\n",
    "        ('HSS1005',)\n",
    "    ],\n",
    "    'economics_and_global_studies': [\n",
    "        ('ECO1020',),\n",
    "        ('GLB1010',),\n",
    "        ('ECO1020', 'GLB1010')\n",
    "    ]\n",
    "}\n",
    "\n",
    "# 过滤函数\n",
    "def filter_combinations(combination):\n",
    "    # 检查英语课程的选择\n",
    "    if combination['english'] == ('ENL1002', 'ENL1004'):\n",
    "        english_courses = ['ENL1002', 'ENL1004']\n",
    "    else:\n",
    "        english_courses = ['ENG1002']\n",
    "    \n",
    "    # 检查社会科学课程的选择\n",
    "    social_science_courses = list(combination['social_sciences'])\n",
    "    \n",
    "    # 检查 HSS1005 和 PSY1010 是否同时存在\n",
    "    if 'HSS1005' in social_science_courses and 'PSY1010' in social_science_courses:\n",
    "        return False\n",
    "    \n",
    "    # 检查 URM3010 优先级\n",
    "    if 'URM3110' in social_science_courses and 'URM3010' not in social_science_courses:\n",
    "        return False\n",
    "    if 'URM3120' in social_science_courses and 'URM3010' not in social_science_courses:\n",
    "        return False\n",
    "    \n",
    "    # 检查经济学和全球研究课程的选择\n",
    "    economics_and_global_studies_courses = list(combination['economics_and_global_studies'])\n",
    "    \n",
    "    # 去重\n",
    "    all_courses = set(english_courses + social_science_courses + economics_and_global_studies_courses)\n",
    "    \n",
    "    # 返回所有课程的组合\n",
    "    return list(all_courses)\n",
    "\n",
    "# 生成所有可能的组合\n",
    "all_combinations = []\n",
    "for english in courses['english']:\n",
    "    for social_sciences in courses['social_sciences']:\n",
    "        for economics_and_global_studies in courses['economics_and_global_studies']:\n",
    "            combination = {\n",
    "                'english': english,\n",
    "                'social_sciences': social_sciences,\n",
    "                'economics_and_global_studies': economics_and_global_studies\n",
    "            }\n",
    "            filtered_combination = filter_combinations(combination)\n",
    "            if filtered_combination:\n",
    "                all_combinations.append(filtered_combination)\n",
    "\n",
    "# 打印所有有效的组合\n",
    "for i, combo in enumerate(all_combinations, 1):\n",
    "    print(f\"组合 {i}: {combo}\")"
   ],
   "id": "5edfb7614fb77508",
   "outputs": [
    {
     "name": "stdout",
     "output_type": "stream",
     "text": [
      "组合 1: ['ENL1004', 'PSY1010', 'ECO1020', 'ENL1002']\n",
      "组合 2: ['GLB1010', 'ENL1004', 'PSY1010', 'ENL1002']\n",
      "组合 3: ['ENL1004', 'ECO1020', 'ENL1002', 'GLB1010', 'PSY1010']\n",
      "组合 4: ['GLB1010', 'ENL1004', 'ECO1020', 'ENL1002']\n",
      "组合 5: ['GLB1010', 'ENL1004', 'ENL1002']\n",
      "组合 6: ['GLB1010', 'ENL1004', 'ECO1020', 'ENL1002']\n",
      "组合 7: ['URM3010', 'ENL1004', 'ECO1020', 'ENL1002']\n",
      "组合 8: ['URM3010', 'GLB1010', 'ENL1004', 'ENL1002']\n",
      "组合 9: ['ENL1004', 'ECO1020', 'ENL1002', 'URM3010', 'GLB1010']\n",
      "组合 10: ['HSS1005', 'ENL1004', 'ECO1020', 'ENL1002']\n",
      "组合 11: ['GLB1010', 'HSS1005', 'ENL1004', 'ENL1002']\n",
      "组合 12: ['ENL1004', 'ECO1020', 'ENL1002', 'HSS1005', 'GLB1010']\n",
      "组合 13: ['ENG1002', 'PSY1010', 'ECO1020']\n",
      "组合 14: ['GLB1010', 'ENG1002', 'PSY1010']\n",
      "组合 15: ['GLB1010', 'ENG1002', 'PSY1010', 'ECO1020']\n",
      "组合 16: ['GLB1010', 'ENG1002', 'ECO1020']\n",
      "组合 17: ['GLB1010', 'ENG1002']\n",
      "组合 18: ['GLB1010', 'ENG1002', 'ECO1020']\n",
      "组合 19: ['URM3010', 'ENG1002', 'ECO1020']\n",
      "组合 20: ['URM3010', 'GLB1010', 'ENG1002']\n",
      "组合 21: ['URM3010', 'GLB1010', 'ENG1002', 'ECO1020']\n",
      "组合 22: ['HSS1005', 'ENG1002', 'ECO1020']\n",
      "组合 23: ['GLB1010', 'HSS1005', 'ENG1002']\n",
      "组合 24: ['GLB1010', 'HSS1005', 'ENG1002', 'ECO1020']\n"
     ]
    }
   ],
   "execution_count": 2
  },
  {
   "metadata": {},
   "cell_type": "code",
   "outputs": [],
   "execution_count": null,
   "source": "",
   "id": "3d00a5312c230e76"
  }
 ],
 "metadata": {
  "kernelspec": {
   "display_name": "Python 3",
   "language": "python",
   "name": "python3"
  },
  "language_info": {
   "codemirror_mode": {
    "name": "ipython",
    "version": 2
   },
   "file_extension": ".py",
   "mimetype": "text/x-python",
   "name": "python",
   "nbconvert_exporter": "python",
   "pygments_lexer": "ipython2",
   "version": "2.7.6"
  }
 },
 "nbformat": 4,
 "nbformat_minor": 5
}
