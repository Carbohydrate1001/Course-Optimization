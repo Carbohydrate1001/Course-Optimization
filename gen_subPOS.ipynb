{
 "cells": [
  {
   "cell_type": "code",
   "id": "initial_id",
   "metadata": {
    "collapsed": true,
    "ExecuteTime": {
     "end_time": "2024-11-23T12:14:47.158362Z",
     "start_time": "2024-11-23T12:14:42.955929Z"
    }
   },
   "source": [
    "import pandas as pd\n",
    "\n",
    "df_POS = pd.read_excel(\"POS-2420_02.xlsx\", sheet_name = \"POS-Confirmed\")\n",
    "df_student = pd.read_excel(\"Student&Mandatory Courses.xlsx\", sheet_name = \"Sheet1\")\n",
    "\n",
    "df_student = df_student.dropna()\n",
    "df_student = df_student[df_student[\"Modules\"] != \"InternationalStudent\"]\n",
    "df_student = df_student[~df_student[\"Modules\"].str.startswith(('PED', 'CEC', 'MED', 'MUS', 'ITE'))]\n",
    "\n",
    "df_POS = df_POS[~df_POS[\"Module Code\"].str.startswith(('PED', 'CEC', 'MED', 'MUS', 'ITE'))]\n",
    "\n",
    "df_POS_Mandatory = df_POS[df_POS[\"Type\"] == \"Mandatory\"]\n",
    "df_result = pd.DataFrame(columns = ['POS', 'Modules', 'Count'])\n",
    "\n",
    "modules_by_pos = df_POS_Mandatory.groupby('POS')['Module Code'].apply(list).to_dict()\n",
    "POS = list(modules_by_pos.keys())\n",
    "\n",
    "df_student_filtered = df_student[df_student.apply(lambda row: row['Modules'] in modules_by_pos.get(row['Programmes of Study'], []), axis=1)]\n",
    "\n",
    "df_student_filtered.to_excel(\"test.xlsx\", index=False)\n",
    "\n",
    "modules_by_name = df_student_filtered.groupby('Name').apply(\n",
    "    lambda x: {\n",
    "        'POS': ', '.join(sorted(x['Programmes of Study'].unique().astype(str))),\n",
    "        'Modules': ', '.join(sorted(x['Modules'].unique().astype(str)))\n",
    "    },\n",
    "    include_groups=False\n",
    ").to_dict()\n",
    "\n",
    "df_modules_by_name = pd.DataFrame.from_dict(modules_by_name, orient='index').reset_index()\n",
    "df_modules_by_name.columns = ['Name', 'POS', 'Modules']\n",
    "\n",
    "# 保存为 Excel 文件\n",
    "df_modules_by_name.to_excel(\"modules_by_name_with_POS.xlsx\", index=False)"
   ],
   "outputs": [],
   "execution_count": 40
  },
  {
   "metadata": {
    "ExecuteTime": {
     "end_time": "2024-11-23T12:14:47.165678Z",
     "start_time": "2024-11-23T12:14:47.159367Z"
    }
   },
   "cell_type": "code",
   "source": "df_modules_by_name",
   "id": "e952c5ae23084010",
   "outputs": [
    {
     "data": {
      "text/plain": [
       "           Name              POS  \\\n",
       "0     117010240  ENER_NEE-Year04   \n",
       "1     117010271      BIFC-Year04   \n",
       "2     117020456       GBM-Year04   \n",
       "3     118010020    CSE_AI-Year04   \n",
       "4     118010318   ORG_PSY-Year04   \n",
       "...         ...              ...   \n",
       "6449  124090993         BENG_COM   \n",
       "6450  124090994        BSSDS_COM   \n",
       "6451  124090995         BENG_COM   \n",
       "6452  124090996         BENG_COM   \n",
       "6453  124090997        BSSDS_COM   \n",
       "\n",
       "                                                Modules  \n",
       "0                    ECE3001, ENE4007, ENE4009, STA2002  \n",
       "1           BIM3009, BIM3011, BIM3019, BIO2004, CHM2004  \n",
       "2                                      MGT3780, MGT4030  \n",
       "3                    CSC4010, CSC4120, CSC4303, DDA4220  \n",
       "4     ENG2002H, HSS1004, PSY3030, PSY3110, PSY3140, ...  \n",
       "...                                                 ...  \n",
       "6449  CSC1002, CSC1004, CSC1006, ENG1002, MAT1002, M...  \n",
       "6450  CSC1002, CSC1004, DDA2001, ENG1002, MAT1002, M...  \n",
       "6451  CSC1002, CSC1004, CSC1006, ENG1002, MAT1002, M...  \n",
       "6452  CSC1002, CSC1004, CSC1006, ENG1002, MAT1002, M...  \n",
       "6453  CSC1002, CSC1004, DDA2001, ENG1002, MAT1002, M...  \n",
       "\n",
       "[6454 rows x 3 columns]"
      ],
      "text/html": [
       "<div>\n",
       "<style scoped>\n",
       "    .dataframe tbody tr th:only-of-type {\n",
       "        vertical-align: middle;\n",
       "    }\n",
       "\n",
       "    .dataframe tbody tr th {\n",
       "        vertical-align: top;\n",
       "    }\n",
       "\n",
       "    .dataframe thead th {\n",
       "        text-align: right;\n",
       "    }\n",
       "</style>\n",
       "<table border=\"1\" class=\"dataframe\">\n",
       "  <thead>\n",
       "    <tr style=\"text-align: right;\">\n",
       "      <th></th>\n",
       "      <th>Name</th>\n",
       "      <th>POS</th>\n",
       "      <th>Modules</th>\n",
       "    </tr>\n",
       "  </thead>\n",
       "  <tbody>\n",
       "    <tr>\n",
       "      <th>0</th>\n",
       "      <td>117010240</td>\n",
       "      <td>ENER_NEE-Year04</td>\n",
       "      <td>ECE3001, ENE4007, ENE4009, STA2002</td>\n",
       "    </tr>\n",
       "    <tr>\n",
       "      <th>1</th>\n",
       "      <td>117010271</td>\n",
       "      <td>BIFC-Year04</td>\n",
       "      <td>BIM3009, BIM3011, BIM3019, BIO2004, CHM2004</td>\n",
       "    </tr>\n",
       "    <tr>\n",
       "      <th>2</th>\n",
       "      <td>117020456</td>\n",
       "      <td>GBM-Year04</td>\n",
       "      <td>MGT3780, MGT4030</td>\n",
       "    </tr>\n",
       "    <tr>\n",
       "      <th>3</th>\n",
       "      <td>118010020</td>\n",
       "      <td>CSE_AI-Year04</td>\n",
       "      <td>CSC4010, CSC4120, CSC4303, DDA4220</td>\n",
       "    </tr>\n",
       "    <tr>\n",
       "      <th>4</th>\n",
       "      <td>118010318</td>\n",
       "      <td>ORG_PSY-Year04</td>\n",
       "      <td>ENG2002H, HSS1004, PSY3030, PSY3110, PSY3140, ...</td>\n",
       "    </tr>\n",
       "    <tr>\n",
       "      <th>...</th>\n",
       "      <td>...</td>\n",
       "      <td>...</td>\n",
       "      <td>...</td>\n",
       "    </tr>\n",
       "    <tr>\n",
       "      <th>6449</th>\n",
       "      <td>124090993</td>\n",
       "      <td>BENG_COM</td>\n",
       "      <td>CSC1002, CSC1004, CSC1006, ENG1002, MAT1002, M...</td>\n",
       "    </tr>\n",
       "    <tr>\n",
       "      <th>6450</th>\n",
       "      <td>124090994</td>\n",
       "      <td>BSSDS_COM</td>\n",
       "      <td>CSC1002, CSC1004, DDA2001, ENG1002, MAT1002, M...</td>\n",
       "    </tr>\n",
       "    <tr>\n",
       "      <th>6451</th>\n",
       "      <td>124090995</td>\n",
       "      <td>BENG_COM</td>\n",
       "      <td>CSC1002, CSC1004, CSC1006, ENG1002, MAT1002, M...</td>\n",
       "    </tr>\n",
       "    <tr>\n",
       "      <th>6452</th>\n",
       "      <td>124090996</td>\n",
       "      <td>BENG_COM</td>\n",
       "      <td>CSC1002, CSC1004, CSC1006, ENG1002, MAT1002, M...</td>\n",
       "    </tr>\n",
       "    <tr>\n",
       "      <th>6453</th>\n",
       "      <td>124090997</td>\n",
       "      <td>BSSDS_COM</td>\n",
       "      <td>CSC1002, CSC1004, DDA2001, ENG1002, MAT1002, M...</td>\n",
       "    </tr>\n",
       "  </tbody>\n",
       "</table>\n",
       "<p>6454 rows × 3 columns</p>\n",
       "</div>"
      ]
     },
     "execution_count": 41,
     "metadata": {},
     "output_type": "execute_result"
    }
   ],
   "execution_count": 41
  },
  {
   "metadata": {
    "ExecuteTime": {
     "end_time": "2024-11-23T12:14:48.064015Z",
     "start_time": "2024-11-23T12:14:47.166686Z"
    }
   },
   "cell_type": "code",
   "source": [
    "df_result = pd.DataFrame()  # 初始化结果DataFrame\n",
    "\n",
    "# 首先按照您的要求聚合数据\n",
    "for pos in POS:\n",
    "    df_student_pos = df_modules_by_name[df_modules_by_name[\"POS\"] == pos]  # 只处理这个专业的学生\n",
    "    \n",
    "    df_aggregated = df_student_pos.groupby(['POS', 'Modules']).agg({'Name': 'count'}).reset_index()\n",
    "    df_aggregated.columns = ['POS', 'Modules', 'Count']\n",
    "    \n",
    "    df_result = pd.concat([df_result, df_aggregated], ignore_index=True)\n",
    "\n",
    "# 创建新的sub-POS列并填充数据\n",
    "for pos in POS:\n",
    "    pos_df = df_result[df_result['POS'] == pos].copy()\n",
    "    pos_df.sort_values(by='Count', ascending=False, inplace=True)\n",
    "    pos_df['sub-POS'] = [f\"{pos}_{str(i+1).zfill(2)}\" for i in range(len(pos_df))]  # 创建sub-POS列\n",
    "    \n",
    "    # 直接将 sub-POS 列添加到 df_result 中\n",
    "    df_result.loc[pos_df.index, 'sub-POS'] = pos_df['sub-POS']\n",
    "\n",
    "print(df_result.columns)\n",
    "\n",
    "# 确保df_result中包含正确的列\n",
    "df_result = df_result[['POS', 'Modules', 'Count', 'sub-POS']]  # 添加新列到输出中\n",
    "\n",
    "# 按照POS和sub-POS排序\n",
    "df_result.sort_values(by=['sub-POS'], inplace=True)\n",
    "\n",
    "# 将结果保存为Excel文件\n",
    "df_result.to_excel(\"学生mandatory数据.xlsx\", index=False)"
   ],
   "id": "7698b441966c108",
   "outputs": [
    {
     "name": "stdout",
     "output_type": "stream",
     "text": [
      "Index(['POS', 'Modules', 'Count', 'sub-POS'], dtype='object')\n"
     ]
    }
   ],
   "execution_count": 42
  },
  {
   "metadata": {
    "ExecuteTime": {
     "end_time": "2024-11-23T12:14:48.163280Z",
     "start_time": "2024-11-23T12:14:48.065019Z"
    }
   },
   "cell_type": "code",
   "source": [
    "df = pd.read_excel(\"学生mandatory数据.xlsx\")\n",
    "\n",
    "# 定义需要检查的语言课程集合\n",
    "language_courses = {\"SPN1002\", \"FRN1002\", \"JAP1002\", \"KOR1002\"}\n",
    "\n",
    "# 处理每个单元格的函数\n",
    "def process_modules(modules):\n",
    "    if pd.isnull(modules):\n",
    "        return modules  # 如果单元格为空，直接返回\n",
    "    \n",
    "    # 将单元格内容按逗号分隔并转换为集合\n",
    "    courses = set(modules.split(\", \"))\n",
    "    \n",
    "    # 检查是否包含全部四门语言课程\n",
    "    if language_courses.issubset(courses):\n",
    "        # 如果包含全部四门课程，则替换为 'LNG1000'\n",
    "        # courses = (courses - language_courses) | {\"LNG1000\"}\n",
    "        courses = (courses - language_courses) | {\"LNG1000\"}\n",
    "    else:\n",
    "        # 如果只包含部分语言课程，则删除这些课程\n",
    "        courses = courses - language_courses\n",
    "    \n",
    "    # 将结果集合转换回字符串并返回\n",
    "    return \", \".join(sorted(courses))\n",
    "\n",
    "# 应用函数处理 'Modules' 列\n",
    "if 'Modules' in df.columns:\n",
    "    df['Modules'] = df['Modules'].apply(process_modules)\n",
    "else:\n",
    "    print(\"数据中不存在 'Modules' 列\")"
   ],
   "id": "bc538c0bf51ff5d5",
   "outputs": [],
   "execution_count": 43
  },
  {
   "metadata": {
    "ExecuteTime": {
     "end_time": "2024-11-23T12:14:48.294378Z",
     "start_time": "2024-11-23T12:14:48.164285Z"
    }
   },
   "cell_type": "code",
   "source": [
    "if 'Modules' in df.columns:\n",
    "    # 假设课程名称在 'Modules' 列中以逗号分隔\n",
    "    df['course counts'] = df['Modules'].apply(lambda x: len(set(x.split(','))) if pd.notnull(x) else 0)\n",
    "else:\n",
    "    print(\"数据中不存在 'Modules' 列\")\n",
    "\n",
    "df = df.dropna()\n",
    "\n",
    "# 保存更新后的文件\n",
    "df.to_excel('更新后的学生mandatory数据.xlsx', index=False)\n",
    "print(\"已生成包含课程统计的文件 '更新后的学生mandatory数据.xlsx'\")"
   ],
   "id": "10f3b3f45ec0bcd3",
   "outputs": [
    {
     "name": "stdout",
     "output_type": "stream",
     "text": [
      "已生成包含课程统计的文件 '更新后的学生mandatory数据.xlsx'\n"
     ]
    }
   ],
   "execution_count": 44
  },
  {
   "metadata": {
    "ExecuteTime": {
     "end_time": "2024-11-23T12:14:48.880803Z",
     "start_time": "2024-11-23T12:14:48.295388Z"
    }
   },
   "cell_type": "code",
   "source": [
    "df_split = df.copy()\n",
    "split_list = []\n",
    "\n",
    "for _, row in df.iterrows():\n",
    "    modules = row['Modules'].split(', ')\n",
    "    for module in modules:\n",
    "        split_list.append({\n",
    "            'POS': row['POS'],\n",
    "            'sub_POS': row['sub-POS'],\n",
    "            'Modules': module,\n",
    "            'Count': row['Count']\n",
    "        })\n",
    "\n",
    "result_df = pd.DataFrame(split_list)\n",
    "result_df.to_excel('分裂后的学生mandatory数据.xlsx', index=False)"
   ],
   "id": "5cc6883a017b136c",
   "outputs": [],
   "execution_count": 45
  },
  {
   "metadata": {
    "ExecuteTime": {
     "end_time": "2024-11-23T12:14:48.884234Z",
     "start_time": "2024-11-23T12:14:48.881807Z"
    }
   },
   "cell_type": "code",
   "source": "",
   "id": "2b82080d72ebf547",
   "outputs": [],
   "execution_count": 45
  }
 ],
 "metadata": {
  "kernelspec": {
   "display_name": "Python 3",
   "language": "python",
   "name": "python3"
  },
  "language_info": {
   "codemirror_mode": {
    "name": "ipython",
    "version": 2
   },
   "file_extension": ".py",
   "mimetype": "text/x-python",
   "name": "python",
   "nbconvert_exporter": "python",
   "pygments_lexer": "ipython2",
   "version": "2.7.6"
  }
 },
 "nbformat": 4,
 "nbformat_minor": 5
}
